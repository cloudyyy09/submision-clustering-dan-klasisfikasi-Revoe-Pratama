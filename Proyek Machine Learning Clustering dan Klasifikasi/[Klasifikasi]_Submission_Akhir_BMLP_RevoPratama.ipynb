{
  "nbformat": 4,
  "nbformat_minor": 0,
  "metadata": {
    "colab": {
      "provenance": [],
      "toc_visible": true
    },
    "kernelspec": {
      "name": "python3",
      "display_name": "Python 3"
    },
    "language_info": {
      "name": "python"
    }
  },
  "cells": [
    {
      "cell_type": "markdown",
      "source": [
        "# **1. Import Library**"
      ],
      "metadata": {
        "id": "fKADPWcFKlj3"
      }
    },
    {
      "cell_type": "markdown",
      "source": [
        "Pada tahap ini, Anda perlu mengimpor beberapa pustaka (library) Python yang dibutuhkan untuk analisis data dan pembangunan model machine learning."
      ],
      "metadata": {
        "id": "LgA3ERnVn84N"
      }
    },
    {
      "cell_type": "code",
      "source": [
        "import pandas as pd\n",
        "import seaborn as sns\n",
        "import numpy as np\n",
        "import matplotlib.pyplot as plt\n",
        "import io\n",
        "from yellowbrick.cluster import KElbowVisualizer\n",
        "from sklearn.cluster import KMeans, DBSCAN\n",
        "from sklearn.metrics import silhouette_score\n",
        "from sklearn.preprocessing import LabelEncoder, StandardScaler\n",
        "from sklearn.decomposition import PCA\n",
        "from sklearn.compose import ColumnTransformer\n",
        "from sklearn.pipeline import Pipeline\n",
        "from google.colab import files\n",
        "from sklearn.preprocessing import MinMaxScaler\n",
        "from google.colab import files\n",
        "from sklearn.ensemble import RandomForestClassifier\n",
        "from sklearn.metrics import classification_report, accuracy_score, f1_score, confusion_matrix\n",
        "from sklearn.neighbors import KNeighborsClassifier\n",
        "from sklearn.model_selection import train_test_split"
      ],
      "metadata": {
        "id": "BlmvjLY9M4Yj"
      },
      "execution_count": 9,
      "outputs": []
    },
    {
      "cell_type": "markdown",
      "source": [
        "# **2. Memuat Dataset dari Hasil Clustering**"
      ],
      "metadata": {
        "id": "f3YIEnAFKrKL"
      }
    },
    {
      "cell_type": "markdown",
      "source": [
        "Memuat dataset hasil clustering dari file CSV ke dalam variabel DataFrame."
      ],
      "metadata": {
        "id": "Ey3ItwTen_7E"
      }
    },
    {
      "cell_type": "code",
      "source": [
        "# Upload file\n",
        "dataset = files.upload()\n",
        "\n",
        "# Pastikan file yang diupload sesuai dengan nama file yang Anda miliki\n",
        "file_name = list(dataset.keys())[0]  # Ambil nama file pertama yang diupload\n",
        "df_clustered = pd.read_csv(io.BytesIO(dataset[file_name]))  # Baca dataset\n",
        "\n",
        "# Menampilkan 5 baris pertama untuk memastikan data terbaca dengan benar\n",
        "print(\"\\n=== 5 Baris Pertama Dataset Hasil Clustering ===\")\n",
        "print(df_clustered.head())  # Menampilkan semua kolom terlebih dahulu\n",
        "\n",
        "# Menampilkan informasi dataset\n",
        "print(\"\\n=== Informasi Dataset Hasil Clustering ===\")\n",
        "print(df_clustered.info())"
      ],
      "metadata": {
        "id": "GHCGNTyrM5fS",
        "colab": {
          "base_uri": "https://localhost:8080/",
          "height": 661
        },
        "outputId": "edfa25d2-6a0a-47e2-c844-19a5ac9729a4"
      },
      "execution_count": 4,
      "outputs": [
        {
          "output_type": "display_data",
          "data": {
            "text/plain": [
              "<IPython.core.display.HTML object>"
            ],
            "text/html": [
              "\n",
              "     <input type=\"file\" id=\"files-052d6803-4eba-4993-8ed2-f86e85bc7c87\" name=\"files[]\" multiple disabled\n",
              "        style=\"border:none\" />\n",
              "     <output id=\"result-052d6803-4eba-4993-8ed2-f86e85bc7c87\">\n",
              "      Upload widget is only available when the cell has been executed in the\n",
              "      current browser session. Please rerun this cell to enable.\n",
              "      </output>\n",
              "      <script>// Copyright 2017 Google LLC\n",
              "//\n",
              "// Licensed under the Apache License, Version 2.0 (the \"License\");\n",
              "// you may not use this file except in compliance with the License.\n",
              "// You may obtain a copy of the License at\n",
              "//\n",
              "//      http://www.apache.org/licenses/LICENSE-2.0\n",
              "//\n",
              "// Unless required by applicable law or agreed to in writing, software\n",
              "// distributed under the License is distributed on an \"AS IS\" BASIS,\n",
              "// WITHOUT WARRANTIES OR CONDITIONS OF ANY KIND, either express or implied.\n",
              "// See the License for the specific language governing permissions and\n",
              "// limitations under the License.\n",
              "\n",
              "/**\n",
              " * @fileoverview Helpers for google.colab Python module.\n",
              " */\n",
              "(function(scope) {\n",
              "function span(text, styleAttributes = {}) {\n",
              "  const element = document.createElement('span');\n",
              "  element.textContent = text;\n",
              "  for (const key of Object.keys(styleAttributes)) {\n",
              "    element.style[key] = styleAttributes[key];\n",
              "  }\n",
              "  return element;\n",
              "}\n",
              "\n",
              "// Max number of bytes which will be uploaded at a time.\n",
              "const MAX_PAYLOAD_SIZE = 100 * 1024;\n",
              "\n",
              "function _uploadFiles(inputId, outputId) {\n",
              "  const steps = uploadFilesStep(inputId, outputId);\n",
              "  const outputElement = document.getElementById(outputId);\n",
              "  // Cache steps on the outputElement to make it available for the next call\n",
              "  // to uploadFilesContinue from Python.\n",
              "  outputElement.steps = steps;\n",
              "\n",
              "  return _uploadFilesContinue(outputId);\n",
              "}\n",
              "\n",
              "// This is roughly an async generator (not supported in the browser yet),\n",
              "// where there are multiple asynchronous steps and the Python side is going\n",
              "// to poll for completion of each step.\n",
              "// This uses a Promise to block the python side on completion of each step,\n",
              "// then passes the result of the previous step as the input to the next step.\n",
              "function _uploadFilesContinue(outputId) {\n",
              "  const outputElement = document.getElementById(outputId);\n",
              "  const steps = outputElement.steps;\n",
              "\n",
              "  const next = steps.next(outputElement.lastPromiseValue);\n",
              "  return Promise.resolve(next.value.promise).then((value) => {\n",
              "    // Cache the last promise value to make it available to the next\n",
              "    // step of the generator.\n",
              "    outputElement.lastPromiseValue = value;\n",
              "    return next.value.response;\n",
              "  });\n",
              "}\n",
              "\n",
              "/**\n",
              " * Generator function which is called between each async step of the upload\n",
              " * process.\n",
              " * @param {string} inputId Element ID of the input file picker element.\n",
              " * @param {string} outputId Element ID of the output display.\n",
              " * @return {!Iterable<!Object>} Iterable of next steps.\n",
              " */\n",
              "function* uploadFilesStep(inputId, outputId) {\n",
              "  const inputElement = document.getElementById(inputId);\n",
              "  inputElement.disabled = false;\n",
              "\n",
              "  const outputElement = document.getElementById(outputId);\n",
              "  outputElement.innerHTML = '';\n",
              "\n",
              "  const pickedPromise = new Promise((resolve) => {\n",
              "    inputElement.addEventListener('change', (e) => {\n",
              "      resolve(e.target.files);\n",
              "    });\n",
              "  });\n",
              "\n",
              "  const cancel = document.createElement('button');\n",
              "  inputElement.parentElement.appendChild(cancel);\n",
              "  cancel.textContent = 'Cancel upload';\n",
              "  const cancelPromise = new Promise((resolve) => {\n",
              "    cancel.onclick = () => {\n",
              "      resolve(null);\n",
              "    };\n",
              "  });\n",
              "\n",
              "  // Wait for the user to pick the files.\n",
              "  const files = yield {\n",
              "    promise: Promise.race([pickedPromise, cancelPromise]),\n",
              "    response: {\n",
              "      action: 'starting',\n",
              "    }\n",
              "  };\n",
              "\n",
              "  cancel.remove();\n",
              "\n",
              "  // Disable the input element since further picks are not allowed.\n",
              "  inputElement.disabled = true;\n",
              "\n",
              "  if (!files) {\n",
              "    return {\n",
              "      response: {\n",
              "        action: 'complete',\n",
              "      }\n",
              "    };\n",
              "  }\n",
              "\n",
              "  for (const file of files) {\n",
              "    const li = document.createElement('li');\n",
              "    li.append(span(file.name, {fontWeight: 'bold'}));\n",
              "    li.append(span(\n",
              "        `(${file.type || 'n/a'}) - ${file.size} bytes, ` +\n",
              "        `last modified: ${\n",
              "            file.lastModifiedDate ? file.lastModifiedDate.toLocaleDateString() :\n",
              "                                    'n/a'} - `));\n",
              "    const percent = span('0% done');\n",
              "    li.appendChild(percent);\n",
              "\n",
              "    outputElement.appendChild(li);\n",
              "\n",
              "    const fileDataPromise = new Promise((resolve) => {\n",
              "      const reader = new FileReader();\n",
              "      reader.onload = (e) => {\n",
              "        resolve(e.target.result);\n",
              "      };\n",
              "      reader.readAsArrayBuffer(file);\n",
              "    });\n",
              "    // Wait for the data to be ready.\n",
              "    let fileData = yield {\n",
              "      promise: fileDataPromise,\n",
              "      response: {\n",
              "        action: 'continue',\n",
              "      }\n",
              "    };\n",
              "\n",
              "    // Use a chunked sending to avoid message size limits. See b/62115660.\n",
              "    let position = 0;\n",
              "    do {\n",
              "      const length = Math.min(fileData.byteLength - position, MAX_PAYLOAD_SIZE);\n",
              "      const chunk = new Uint8Array(fileData, position, length);\n",
              "      position += length;\n",
              "\n",
              "      const base64 = btoa(String.fromCharCode.apply(null, chunk));\n",
              "      yield {\n",
              "        response: {\n",
              "          action: 'append',\n",
              "          file: file.name,\n",
              "          data: base64,\n",
              "        },\n",
              "      };\n",
              "\n",
              "      let percentDone = fileData.byteLength === 0 ?\n",
              "          100 :\n",
              "          Math.round((position / fileData.byteLength) * 100);\n",
              "      percent.textContent = `${percentDone}% done`;\n",
              "\n",
              "    } while (position < fileData.byteLength);\n",
              "  }\n",
              "\n",
              "  // All done.\n",
              "  yield {\n",
              "    response: {\n",
              "      action: 'complete',\n",
              "    }\n",
              "  };\n",
              "}\n",
              "\n",
              "scope.google = scope.google || {};\n",
              "scope.google.colab = scope.google.colab || {};\n",
              "scope.google.colab._files = {\n",
              "  _uploadFiles,\n",
              "  _uploadFilesContinue,\n",
              "};\n",
              "})(self);\n",
              "</script> "
            ]
          },
          "metadata": {}
        },
        {
          "output_type": "stream",
          "name": "stdout",
          "text": [
            "Saving Dataset_inisiasi.csv to Dataset_inisiasi.csv\n",
            "\n",
            "=== 5 Baris Pertama Dataset Hasil Clustering ===\n",
            "     Region  Crime_Rate  Education_Level  Employment_Rate  Median_Income  \\\n",
            "0  Region_1      1176.0        76.492001        73.315344       116664.0   \n",
            "1  Region_2       910.0        85.361505        46.088096        21401.0   \n",
            "2  Region_3      1344.0        88.388975        63.911701       105179.0   \n",
            "3  Region_4      1180.0        54.364509        65.305378        35193.0   \n",
            "4  Region_5      1145.0        75.305198        51.627568       112389.0   \n",
            "\n",
            "   Poverty_Rate  Population_Density  Region_encoded  Cluster  \n",
            "0     14.655300              1523.0               0        0  \n",
            "1     19.712623              3293.0             112        2  \n",
            "2      9.634319              4528.0             223        0  \n",
            "3     19.994283              2231.0             334        2  \n",
            "4     26.537843              1499.0             445        2  \n",
            "\n",
            "=== Informasi Dataset Hasil Clustering ===\n",
            "<class 'pandas.core.frame.DataFrame'>\n",
            "RangeIndex: 1000 entries, 0 to 999\n",
            "Data columns (total 9 columns):\n",
            " #   Column              Non-Null Count  Dtype  \n",
            "---  ------              --------------  -----  \n",
            " 0   Region              1000 non-null   object \n",
            " 1   Crime_Rate          1000 non-null   float64\n",
            " 2   Education_Level     1000 non-null   float64\n",
            " 3   Employment_Rate     1000 non-null   float64\n",
            " 4   Median_Income       1000 non-null   float64\n",
            " 5   Poverty_Rate        1000 non-null   float64\n",
            " 6   Population_Density  1000 non-null   float64\n",
            " 7   Region_encoded      1000 non-null   int64  \n",
            " 8   Cluster             1000 non-null   int64  \n",
            "dtypes: float64(6), int64(2), object(1)\n",
            "memory usage: 70.4+ KB\n",
            "None\n"
          ]
        }
      ]
    },
    {
      "cell_type": "markdown",
      "source": [
        "# **3. Data Splitting**"
      ],
      "metadata": {
        "id": "KkPem5eWL2UP"
      }
    },
    {
      "cell_type": "markdown",
      "source": [
        "Tahap Data Splitting bertujuan untuk memisahkan dataset menjadi dua bagian: data latih (training set) dan data uji (test set)."
      ],
      "metadata": {
        "id": "YYj1rl_JNI9Y"
      }
    },
    {
      "cell_type": "code",
      "source": [
        "# 1. Pisahkan fitur dan target\n",
        "X = df_clustered.drop(columns=['Cluster'])  # Semua kolom kecuali target\n",
        "y = df_clustered['Cluster']                # Target klasifikasi\n",
        "\n",
        "# 2. Deteksi dan encoding kolom kategorikal\n",
        "categorical_cols = X.select_dtypes(include='object').columns.tolist()\n",
        "X_encoded = pd.get_dummies(X, columns=categorical_cols, drop_first=True)\n",
        "\n",
        "# 3. Split data 80% training dan 20% testing\n",
        "X_train, X_test, y_train, y_test = train_test_split(\n",
        "    X_encoded, y, test_size=0.2, random_state=42, stratify=y\n",
        ")\n",
        "\n",
        "# 4. Scaling (jika akan digunakan untuk KNN/SVM)\n",
        "scaler = StandardScaler()\n",
        "X_train_scaled = scaler.fit_transform(X_train)\n",
        "X_test_scaled = scaler.transform(X_test)\n",
        "\n",
        "print(\"\\n=== Ukuran Dataset ===\")\n",
        "print(f\"X_train: {X_train.shape}, X_test: {X_test.shape}\")\n",
        "print(f\"y_train: {y_train.shape}, y_test: {y_test.shape}\")"
      ],
      "metadata": {
        "id": "OubAW-7ONKVj",
        "colab": {
          "base_uri": "https://localhost:8080/"
        },
        "outputId": "f11f2e72-0b10-451c-8df3-5dca247d2316"
      },
      "execution_count": 5,
      "outputs": [
        {
          "output_type": "stream",
          "name": "stdout",
          "text": [
            "\n",
            "=== Ukuran Dataset ===\n",
            "X_train: (800, 1006), X_test: (200, 1006)\n",
            "y_train: (800,), y_test: (200,)\n"
          ]
        }
      ]
    },
    {
      "cell_type": "markdown",
      "source": [
        "# **4. Membangun Model Klasifikasi**\n"
      ],
      "metadata": {
        "id": "IVPbB03CMhTT"
      }
    },
    {
      "cell_type": "markdown",
      "source": [
        "## **a. Membangun Model Klasifikasi**"
      ],
      "metadata": {
        "id": "Ned1pL9zMmBK"
      }
    },
    {
      "cell_type": "markdown",
      "source": [
        "Setelah memilih algoritma klasifikasi yang sesuai, langkah selanjutnya adalah melatih model menggunakan data latih.\n",
        "\n",
        "Berikut adalah rekomendasi tahapannya.\n",
        "1. Pilih algoritma klasifikasi yang sesuai, seperti Logistic Regression, Decision Tree, Random Forest, atau K-Nearest Neighbors (KNN).\n",
        "2. Latih model menggunakan data latih."
      ],
      "metadata": {
        "id": "WAWzPOE4Nkti"
      }
    },
    {
      "cell_type": "code",
      "source": [
        "# 1. Inisialisasi model\n",
        "rf_model = RandomForestClassifier(random_state=42)\n",
        "\n",
        "# 2. Training model\n",
        "rf_model.fit(X_train, y_train)\n",
        "\n",
        "# 3. Prediksi pada data test\n",
        "y_pred_rf = rf_model.predict(X_test)\n",
        "\n",
        "# 4. Evaluasi model\n",
        "print(\"=== Random Forest Classification Report ===\")\n",
        "print(classification_report(y_test, y_pred_rf))\n",
        "print(\"\\nConfusion Matrix:\")\n",
        "print(confusion_matrix(y_test, y_pred_rf))\n",
        "print(f\"\\nAkurasi: {accuracy_score(y_test, y_pred_rf):.4f}\")\n"
      ],
      "metadata": {
        "id": "4JYxBe87NLDk",
        "colab": {
          "base_uri": "https://localhost:8080/"
        },
        "outputId": "939dd554-ce85-4822-dc97-b4d92f550913"
      },
      "execution_count": 6,
      "outputs": [
        {
          "output_type": "stream",
          "name": "stdout",
          "text": [
            "=== Random Forest Classification Report ===\n",
            "              precision    recall  f1-score   support\n",
            "\n",
            "           0       0.86      0.86      0.86        65\n",
            "           1       0.91      0.90      0.90        68\n",
            "           2       0.91      0.93      0.92        67\n",
            "\n",
            "    accuracy                           0.90       200\n",
            "   macro avg       0.89      0.89      0.89       200\n",
            "weighted avg       0.89      0.90      0.89       200\n",
            "\n",
            "\n",
            "Confusion Matrix:\n",
            "[[56  4  5]\n",
            " [ 6 61  1]\n",
            " [ 3  2 62]]\n",
            "\n",
            "Akurasi: 0.8950\n"
          ]
        }
      ]
    },
    {
      "cell_type": "code",
      "source": [
        "#membangun model KNN\n",
        "# 1. Pisahkan fitur dan target\n",
        "X = df_clustered.drop(columns=['Cluster'])  # Semua kolom kecuali target\n",
        "y = df_clustered['Cluster']                # Target klasifikasi\n",
        "\n",
        "# 2. Deteksi kolom kategorikal dan lakukan one-hot encoding\n",
        "categorical_cols = X.select_dtypes(include='object').columns.tolist()\n",
        "X_encoded = pd.get_dummies(X, columns=categorical_cols, drop_first=True)\n",
        "\n",
        "# 3. Scaling (KNN butuh scaling karena berbasis jarak)\n",
        "scaler = StandardScaler()\n",
        "X_scaled = scaler.fit_transform(X_encoded)\n",
        "\n",
        "# 4. Buat dan latih model KNN (langsung ke semua data karena tidak split)\n",
        "knn_model = KNeighborsClassifier(n_neighbors=5)\n",
        "knn_model.fit(X_scaled, y)\n",
        "\n",
        "# 5. Evaluasi model terhadap data training (hati-hati terhadap overfitting)\n",
        "y_pred_knn = knn_model.predict(X_scaled)\n",
        "\n",
        "print(\"=== KNN Classification Report (Evaluasi pada Data Training) ===\")\n",
        "print(classification_report(y, y_pred_knn))\n",
        "print(\"Akurasi:\", accuracy_score(y, y_pred_knn))\n"
      ],
      "metadata": {
        "colab": {
          "base_uri": "https://localhost:8080/"
        },
        "id": "6whjmawmN2Tg",
        "outputId": "143a7930-3d22-48e0-e5b3-eb987129cf9f"
      },
      "execution_count": 7,
      "outputs": [
        {
          "output_type": "stream",
          "name": "stdout",
          "text": [
            "=== KNN Classification Report (Evaluasi pada Data Training) ===\n",
            "              precision    recall  f1-score   support\n",
            "\n",
            "           0       0.85      0.98      0.91       325\n",
            "           1       0.96      0.92      0.94       339\n",
            "           2       0.98      0.87      0.92       336\n",
            "\n",
            "    accuracy                           0.92      1000\n",
            "   macro avg       0.93      0.92      0.92      1000\n",
            "weighted avg       0.93      0.92      0.92      1000\n",
            "\n",
            "Akurasi: 0.924\n"
          ]
        }
      ]
    },
    {
      "cell_type": "markdown",
      "source": [
        "\n",
        "Random Forest:\n",
        "- Random Forest adalah salah satu algoritma pembelajaran mesin berbasis ensemble yang digunakan untuk tugas klasifikasi maupun regresi. Algoritma ini bekerja dengan membangun banyak pohon keputusan (decision trees) selama pelatihan dan menghasilkan prediksi akhir berdasarkan voting dari masing-masing pohon.\n",
        "\n",
        "K-Nearest Neighbors (KNN):\n",
        "- K-Nearest Neighbors (KNN) adalah algoritma klasifikasi berbasis instance-based learning (lazy learning). Artinya, KNN tidak membangun model secara eksplisit saat pelatihan, namun menyimpan semua data latih dan melakukan prediksi berdasarkan kedekatan (jarak) ke data uji."
      ],
      "metadata": {
        "id": "seYoHNY3XU1y"
      }
    },
    {
      "cell_type": "markdown",
      "source": [
        "## **b. Evaluasi Model Klasifikasi**"
      ],
      "metadata": {
        "id": "ergzChZFEL-O"
      }
    },
    {
      "cell_type": "markdown",
      "source": [
        "Berikut adalah **rekomendasi** tahapannya.\n",
        "1. Lakukan prediksi menggunakan data uji.\n",
        "2. Hitung metrik evaluasi seperti Accuracy dan F1-Score (Opsional: Precision dan Recall).\n",
        "3. Buat confusion matrix untuk melihat detail prediksi benar dan salah."
      ],
      "metadata": {
        "id": "zOm68u-7NpLT"
      }
    },
    {
      "cell_type": "code",
      "source": [
        "\n",
        "# Prediksi pada data test\n",
        "y_pred_rf = rf_model.predict(X_test)\n",
        "\n",
        "# Evaluasi\n",
        "print(\"=== Random Forest Classification Report ===\")\n",
        "print(classification_report(y_test, y_pred_rf))\n",
        "print(\"Akurasi Random Forest:\", accuracy_score(y_test, y_pred_rf))\n",
        "\n",
        "# Rata-rata F1 Score\n",
        "f1_macro = f1_score(y_test, y_pred_rf, average='macro')\n",
        "f1_weighted = f1_score(y_test, y_pred_rf, average='weighted')\n",
        "print(f\"F1 Score Macro Average: {f1_macro:.4f}\")\n",
        "print(f\"F1 Score Weighted Average: {f1_weighted:.4f}\")\n",
        "\n",
        "# Confusion Matrix\n",
        "plt.figure(figsize=(6, 4))\n",
        "sns.heatmap(confusion_matrix(y_test, y_pred_rf), annot=True, fmt='d', cmap='Blues')\n",
        "plt.title('Confusion Matrix - Random Forest')\n",
        "plt.xlabel('Predicted')\n",
        "plt.ylabel('Actual')\n",
        "plt.show()\n"
      ],
      "metadata": {
        "id": "tMq4QAssNLip",
        "colab": {
          "base_uri": "https://localhost:8080/",
          "height": 651
        },
        "outputId": "e2d82dc7-63e7-4af6-b380-60bdeab02dc1"
      },
      "execution_count": 10,
      "outputs": [
        {
          "output_type": "stream",
          "name": "stdout",
          "text": [
            "=== Random Forest Classification Report ===\n",
            "              precision    recall  f1-score   support\n",
            "\n",
            "           0       0.86      0.86      0.86        65\n",
            "           1       0.91      0.90      0.90        68\n",
            "           2       0.91      0.93      0.92        67\n",
            "\n",
            "    accuracy                           0.90       200\n",
            "   macro avg       0.89      0.89      0.89       200\n",
            "weighted avg       0.89      0.90      0.89       200\n",
            "\n",
            "Akurasi Random Forest: 0.895\n",
            "F1 Score Macro Average: 0.8946\n",
            "F1 Score Weighted Average: 0.8950\n"
          ]
        },
        {
          "output_type": "display_data",
          "data": {
            "text/plain": [
              "<Figure size 600x400 with 2 Axes>"
            ],
            "image/png": "[encoded data removed]"
          },
          "metadata": {}
        }
      ]
    },
    {
      "cell_type": "code",
      "source": [
        "#Evaluasi model KKN\n",
        "# Evaluasi performa model terhadap data training\n",
        "y_pred_knn = knn_model.predict(X_scaled)\n",
        "\n",
        "# Classification report dan akurasi\n",
        "print(\"=== KNN Classification Report (Evaluasi pada Data Training) ===\")\n",
        "print(classification_report(y, y_pred_knn))\n",
        "print(\"Akurasi:\", accuracy_score(y, y_pred_knn))\n",
        "\n",
        "# Rata-rata F1 Score\n",
        "f1_macro = f1_score(y, y_pred_knn, average='macro')\n",
        "f1_weighted = f1_score(y, y_pred_knn, average='weighted')\n",
        "print(f\"F1 Score Macro Average: {f1_macro:.4f}\")\n",
        "print(f\"F1 Score Weighted Average: {f1_weighted:.4f}\")\n",
        "\n",
        "# Confusion Matrix\n",
        "plt.figure(figsize=(6, 4))\n",
        "sns.heatmap(confusion_matrix(y, y_pred_knn), annot=True, fmt='d', cmap='Purples')\n",
        "plt.title('Confusion Matrix - KNN (Training Data)')\n",
        "plt.xlabel('Predicted')\n",
        "plt.ylabel('Actual')\n",
        "plt.show()"
      ],
      "metadata": {
        "colab": {
          "base_uri": "https://localhost:8080/",
          "height": 651
        },
        "id": "SdnqImkCOe3T",
        "outputId": "f8a23651-7a36-47c9-e69a-6ed9d2bdae8e"
      },
      "execution_count": 11,
      "outputs": [
        {
          "output_type": "stream",
          "name": "stdout",
          "text": [
            "=== KNN Classification Report (Evaluasi pada Data Training) ===\n",
            "              precision    recall  f1-score   support\n",
            "\n",
            "           0       0.85      0.98      0.91       325\n",
            "           1       0.96      0.92      0.94       339\n",
            "           2       0.98      0.87      0.92       336\n",
            "\n",
            "    accuracy                           0.92      1000\n",
            "   macro avg       0.93      0.92      0.92      1000\n",
            "weighted avg       0.93      0.92      0.92      1000\n",
            "\n",
            "Akurasi: 0.924\n",
            "F1 Score Macro Average: 0.9242\n",
            "F1 Score Weighted Average: 0.9244\n"
          ]
        },
        {
          "output_type": "display_data",
          "data": {
            "text/plain": [
              "<Figure size 600x400 with 2 Axes>"
            ],
            "image/png": "[encoded data removed]"
          },
          "metadata": {}
        }
      ]
    },
    {
      "cell_type": "markdown",
      "source": [
        "Random Forest:\n",
        "- Model Random Forest menunjukkan performa yang sangat baik dengan akurasi sebesar 90%. Berdasarkan classification report, nilai precision, recall, dan f1-score untuk ketiga cluster (0, 1, dan 2) berada di kisaran 0.86 hingga 0.93. Ini menunjukkan bahwa model mampu melakukan klasifikasi dengan tingkat kesalahan yang rendah dan kinerja yang cukup merata antar kelas.\n",
        "Nilai F1 Score Macro Average sebesar 0.89 menunjukkan bahwa model dapat menangani data dengan baik tanpa memberikan bias terhadap satu kelas tertentu. Random Forest juga dikenal sebagai algoritma yang tangguh terhadap data berdimensi tinggi dan mampu mengurangi risiko overfitting melalui mekanisme ensemble learning yang dimilikinya.\n",
        "\n",
        "K-Nearest Neighbors (KNN):\n",
        "- Model KNN menghasilkan akurasi sebesar 90.4%, sedikit lebih tinggi dibandingkan Random Forest, tetapi evaluasi ini dilakukan pada data training, sehingga masih berisiko overfitting. Berdasarkan classification report, model ini menunjukkan recall yang sangat tinggi pada Cluster 0 (0.98), namun precision-nya hanya 0.82, yang menunjukkan adanya kesalahan klasifikasi dari cluster lain ke Cluster 0.\n",
        "Untuk Cluster 1 dan 2, precision dan recall masih cukup baik, berada dalam kisaran 0.89–0.98. Nilai F1 Score Macro Average sebesar 0.9042 mencerminkan performa keseluruhan yang baik, namun tetap perlu divalidasi lebih lanjut pada data testing. Perlu dicatat bahwa KNN sangat sensitif terhadap skala dan distribusi data, sehingga preprocessing yang tepat sangat penting.\n",
        "\n",
        "Perbandingan:\n",
        "- Secara umum, Random Forest unggul dalam hal stabilitas dan generalisasi, karena dievaluasi langsung pada data testing. Sementara itu, KNN tampil cukup baik pada data training, namun evaluasi ini berisiko terlalu optimis.\n",
        "Random Forest juga kurang sensitif terhadap outlier dan skala fitur, serta lebih robust pada variasi data. Sebaliknya, KNN meskipun sederhana dan intuitif, memiliki kelemahan pada performa ketika data tidak memiliki struktur yang jelas atau sebaran antar kelas terlalu rapat."
      ],
      "metadata": {
        "id": "H4_9OwrsXZlz"
      }
    },
    {
      "cell_type": "markdown",
      "source": [
        "## **c. Tuning Model Klasifikasi (Optional)**"
      ],
      "metadata": {
        "id": "ph9yIYDXEPuB"
      }
    },
    {
      "cell_type": "markdown",
      "source": [
        "Gunakan GridSearchCV, RandomizedSearchCV, atau metode lainnya untuk mencari kombinasi hyperparameter terbaik"
      ],
      "metadata": {
        "id": "-Bikx3LINv5e"
      }
    },
    {
      "cell_type": "code",
      "source": [],
      "metadata": {
        "id": "winbFzb8NL95"
      },
      "execution_count": 41,
      "outputs": []
    },
    {
      "cell_type": "markdown",
      "source": [
        "## **d. Evaluasi Model Klasifikasi setelah Tuning (Optional)**"
      ],
      "metadata": {
        "id": "hE7pqlEPEYzI"
      }
    },
    {
      "cell_type": "markdown",
      "source": [
        "Berikut adalah rekomendasi tahapannya.\n",
        "1. Gunakan model dengan hyperparameter terbaik.\n",
        "2. Hitung ulang metrik evaluasi untuk melihat apakah ada peningkatan performa."
      ],
      "metadata": {
        "id": "feaPESoeN0zz"
      }
    },
    {
      "cell_type": "code",
      "source": [
        "#Type your code here"
      ],
      "metadata": {
        "id": "HTXZRvEeNMb1"
      },
      "execution_count": null,
      "outputs": []
    },
    {
      "cell_type": "markdown",
      "source": [
        "## **e. Analisis Hasil Evaluasi Model Klasifikasi**"
      ],
      "metadata": {
        "id": "ZRsOdm4uEgAW"
      }
    },
    {
      "cell_type": "markdown",
      "source": [
        "Berikut adalah **rekomendasi** tahapannya.\n",
        "1. Analisis Detail:\n",
        "\n",
        "Random Forest:\n",
        "- Berdasarkan classification report, kelas 0 memiliki precision dan recall paling rendah dibanding kelas lainnya (masing-masing 0.86).:\n",
        "- Meskipun performanya masih tergolong baik, perbedaan ini mengindikasikan bahwa model sedikit kesulitan membedakan data kelas 0 dengan kelas lain.\n",
        "- Tidak terdapat indikasi imbalance yang signifikan, namun tetap bisa ditingkatkan dengan feature engineering atau tuning parameter lebih lanjut.\n",
        "\n",
        "KNN :\n",
        "- Evaluasi dilakukan pada data training, sehingga hasil akurasi (0.904) dan f1-score makro/tertimbang tinggi bisa jadi menyesatkan (overfitting).:\n",
        "- Kelas 2 memiliki recall hanya 0.84, sedangkan precision-nya sangat tinggi (0.98), menandakan adanya data kelas 2 yang diklasifikasikan sebagai kelas lain.\n",
        "- Model sensitif terhadap jarak, sehingga scaling dan kualitas fitur sangat mempengaruhi performa.\n",
        "\n",
        "2. Rekomendasi Tindakan Lanjutan:\n",
        "Jika hasil belum memuaskan, Anda dapat mencoba:\n",
        "- Coba algoritma klasifikasi lain, seperti:\n",
        "Decision Tree,\n",
        "Support Vector Machine (SVM), dan\n",
        "Gradient Boosting / XGBoost\n",
        "- Evaluasi model menggunakan cross-validation agar hasil evaluasi lebih stabil dan tidak tergantung pada satu pembagian data.\n",
        "- Jika performa model masih belum memuaskan, kumpulkan data tambahan, terutama dari kelas yang performanya rendah."
      ],
      "metadata": {
        "id": "Hm3BhSi6N4_l"
      }
    }
  ]
}